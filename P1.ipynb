{
 "cells": [
  {
   "cell_type": "code",
   "execution_count": 1,
   "id": "d2ce8fa4",
   "metadata": {},
   "outputs": [
    {
     "name": "stdout",
     "output_type": "stream",
     "text": [
      "data loading done\n"
     ]
    }
   ],
   "source": [
    "import numpy as np \n",
    "import matplotlib.pyplot as plt\n",
    "\n",
    "'''\n",
    "To do:\n",
    "    You may need to change draft to meet the requirement in P1\n",
    "'''\n",
    "\n",
    "def data_loader(file):\n",
    "    a = np.genfromtxt(file, delimiter=',', skip_header=0)\n",
    "    x = a[:, 1:] / 255.0\n",
    "    y = a[:, 0]\n",
    "    return (x, y)\n",
    "\n",
    "x_train, y_train = data_loader('mnist_train.csv')\n",
    "print('data loading done')\n"
   ]
  },
  {
   "cell_type": "code",
   "execution_count": 32,
   "id": "f529b433",
   "metadata": {
    "scrolled": true
   },
   "outputs": [
    {
     "name": "stdout",
     "output_type": "stream",
     "text": [
      "(12593, 784)\n"
     ]
    }
   ],
   "source": [
    "test_labels = [1,8]\n",
    "indices = np.where(np.isin(y_train,test_labels))[0]\n",
    "\n",
    "\n",
    "x = x_train[indices]\n",
    "y = y_train[indices]\n",
    "\n",
    "y[y == test_labels[0]] = 0\n",
    "y[y == test_labels[1]] = 1\n",
    "\n",
    "\n",
    "# open a (new) file to write\n",
    "outF = open(\"features.txt\", \"w\")\n",
    "x3 = x[2]\n",
    "\n",
    "print(x.shape)\n",
    "\n",
    "for i in range(len(x3)):\n",
    "    outF.write(str(round(x3[i], 2)))\n",
    "    if i != len(x3) - 1:\n",
    "        outF.write(\",\")\n",
    "outF.close()\n",
    "\n"
   ]
  },
  {
   "cell_type": "code",
   "execution_count": 33,
   "id": "1c1c3b99",
   "metadata": {},
   "outputs": [],
   "source": [
    "num_epochs = 500\n",
    "m = x.shape[1]\n",
    "alpha = 0.1\n",
    "\n",
    "\n",
    "w = np.random.rand(m)\n",
    "\n",
    "b = np.random.rand()\n",
    "\n",
    "\n"
   ]
  },
  {
   "cell_type": "code",
   "execution_count": 34,
   "id": "ed6bbfc0",
   "metadata": {},
   "outputs": [],
   "source": [
    "c = np.zeros(num_epochs)\n",
    "\n",
    "\n",
    "for epoch in range(num_epochs):\n",
    "    a = x@w + b\n",
    "    a = (a >= 0)\n",
    "    \n",
    "    w -= alpha * (x.T)@(a-y)\n",
    "    b -= alpha * (a-y).sum()\n",
    "    "
   ]
  },
  {
   "cell_type": "code",
   "execution_count": 35,
   "id": "88266e8e",
   "metadata": {},
   "outputs": [],
   "source": [
    "# open a (new) file to write\n",
    "outF = open(\"weights.txt\", \"w\")\n",
    "\n",
    "for i in range(len(w)):\n",
    "    outF.write(str(round(w[i], 4)))\n",
    "    outF.write(\",\")\n",
    "outF.write(str(round(b, 4)))\n",
    "outF.close()"
   ]
  },
  {
   "cell_type": "code",
   "execution_count": 36,
   "id": "117a2b11",
   "metadata": {},
   "outputs": [],
   "source": [
    "import math\n",
    "\n",
    "# Todo: load and measure the given sample\n",
    "new_test = np.loadtxt('test.txt', delimiter=',')\n",
    "new_x = new_test / 255.0\n",
    "\n",
    "\n",
    "\n",
    "\n",
    "\n",
    "outF = open(\"activation_values.txt\", \"w\")\n",
    "for i in range(len(new_x)):\n",
    "    value = -(np.dot(new_x[i],w)+b)\n",
    "    if value > 700:\n",
    "        value = 700\n",
    "    if value < -700:\n",
    "        value = -700\n",
    "    ai = 1/(1+math.exp(value))\n",
    "    outF.write(str(round(ai, 2)))\n",
    "    if i != len(new_x) - 1:\n",
    "        outF.write(\",\")\n",
    "outF.close()\n",
    "    \n",
    "outF = open(\"predictions.txt\", \"w\")\n",
    "for i in range(len(new_x)):\n",
    "    value = -(np.dot(new_x[i],w)+b)\n",
    "    if value > 700:\n",
    "        value = 700\n",
    "    if value < -700:\n",
    "        value = -700\n",
    "    ai = 1/(1+math.exp(value))\n",
    "    outF.write(str(round(ai)))\n",
    "    if i != len(new_x) - 1:\n",
    "        outF.write(\",\")\n",
    "outF.close()\n",
    "\n"
   ]
  },
  {
   "cell_type": "code",
   "execution_count": 44,
   "id": "3026937d",
   "metadata": {},
   "outputs": [
    {
     "name": "stdout",
     "output_type": "stream",
     "text": [
      "epoch =  1  error = 1280.657 correctly classified = 96.5695%\n",
      "epoch =  2  error = 899.4157 correctly classified = 97.5780%\n",
      "epoch =  3  error = 772.9386 correctly classified = 98.0465%\n",
      "epoch =  4  error = 692.399 correctly classified = 98.2530%\n",
      "epoch =  5  error = 644.7929 correctly classified = 98.4356%\n",
      "(785, 28)\n",
      "(1, 29)\n"
     ]
    }
   ],
   "source": [
    "# num_hidden_uints should be 28 in P1\n",
    "num_hidden_uints = 28\n",
    "\n",
    "# sigmoid should be used here\n",
    "def sigmoid(x):\n",
    "    for i in range(len(x)):\n",
    "        x_ori = x[i] \n",
    "        if x_ori > 700:\n",
    "            x_ori = 700\n",
    "        if x_ori < -700:\n",
    "            x_ori = -700\n",
    "        x_log = 1.0 / (1.0 + math.exp(-x_ori))\n",
    "        x[i] = x_log\n",
    "    return x\n",
    "\n",
    "def sigmoid_single(x):\n",
    "    x = 1.0 / (1.0 + math.exp(-x))\n",
    "    return x\n",
    "\n",
    "\n",
    "\n",
    "\n",
    "def nnet(train_x, train_y, lr, num_epochs):\n",
    "    num_train = len(train_y)\n",
    "    \n",
    "    train_x = np.hstack((train_x, np.ones(num_train).reshape(-1,1)))\n",
    "    \n",
    "    num_input_uints = train_x.shape[1]  # 28\n",
    "    \n",
    "    \n",
    "    wih = np.random.uniform(low=-1, high=1, size=(num_hidden_uints, num_input_uints)) \n",
    "    who = np.random.uniform(low=-1, high=1, size=(1, num_hidden_uints+1)) \n",
    "    \n",
    "    for epoch in range(1, num_epochs+1):\n",
    "        out_o = np.zeros(num_train)\n",
    "        out_h = np.zeros((num_train, num_hidden_uints+1))  \n",
    "        out_h[:,-1] = 1\n",
    "        for ind in range(num_train):\n",
    "            row = train_x[ind]  # len = 28 \n",
    "            out_h[ind, :-1] = sigmoid(np.matmul(wih, row))\n",
    "            out_o[ind] = 1 / (1 + np.exp(-sum(out_h[ind] @ who.T)))\n",
    "            \n",
    "            delta = np.multiply(sigmoid(out_h[ind]), (train_y[ind] - out_o[ind]) * np.squeeze(who))\n",
    "            wih += lr * np.matmul(np.expand_dims(delta[:-1], axis=1), np.expand_dims(row,axis=0))\n",
    "            who += np.expand_dims(lr * (train_y[ind] - out_o[ind]) * out_h[ind,:], axis=0)\n",
    "        error = sum(- train_y * np.log(out_o) - (1-train_y) * np.log(1-out_o))\n",
    "        num_correct = sum((out_o > 0.5).astype(int) == train_y)\n",
    "        \n",
    "        print('epoch = ', epoch, ' error = {:.7}'.format(error), 'correctly classified = {:.4%}'.format(num_correct / num_train))\n",
    "    \n",
    "    return wih.T, who\n",
    "\n",
    "\n",
    "\n",
    "\n",
    "# Todo: change these hyper parameters\n",
    "lr = 0.01\n",
    "num_epochs = 5\n",
    "\n",
    "W1, W2 = nnet(x, y, lr, num_epochs)\n",
    "\n",
    "print(W1.shape)\n",
    "print(W2.shape)\n",
    "\n"
   ]
  },
  {
   "cell_type": "code",
   "execution_count": 45,
   "id": "8bd1ee7f",
   "metadata": {},
   "outputs": [],
   "source": [
    "outF = open(\"first_layer_weights.txt\", \"w\")\n",
    "for i in range(len(W1)):\n",
    "    for j in range(len(W1[i])):\n",
    "        outF.write(str(round(W1[i][j],4)))\n",
    "        if j != len(W1[i]) - 1:\n",
    "            outF.write(\",\")\n",
    "    outF.write('\\n')\n",
    "outF.close()"
   ]
  },
  {
   "cell_type": "code",
   "execution_count": 46,
   "id": "17a3f16b",
   "metadata": {},
   "outputs": [],
   "source": [
    "outF = open(\"second_layer_weights.txt\", \"w\")\n",
    "for i in range(len(W2)):\n",
    "    for j in range(len(W2[i])):\n",
    "        outF.write(str(round(W2[i][j],4)))\n",
    "        if j != len(W2[i]) - 1:\n",
    "            outF.write(\",\")\n",
    "    outF.write('\\n')\n",
    "outF.close()\n",
    "\n"
   ]
  },
  {
   "cell_type": "code",
   "execution_count": 47,
   "id": "7739ef94",
   "metadata": {},
   "outputs": [],
   "source": [
    "# Todo: load and measure the given sample\n",
    "new_test = np.loadtxt('test.txt', delimiter=',')\n",
    "new_x = new_test / 255.0\n",
    "\n",
    "W2 = np.squeeze(W2)\n",
    "\n",
    "\n",
    "outF = open(\"second_layer_activation_values.txt\", \"w\")\n",
    "for i in range(len(new_x)):\n",
    "    t = np.append(new_x[i], [1], axis=0)\n",
    "    value_first_l = np.dot(t,W1)\n",
    "    out_first_l = sigmoid(value_first_l)\n",
    "    out_first_l_bias = np.append(out_first_l, [1], axis=0)\n",
    "    before_a = np.dot(out_first_l_bias, W2)\n",
    "    \n",
    "    after_a = sigmoid_single(before_a)\n",
    "    outF.write(str(round(after_a, 2)))\n",
    "    if i != len(new_x) - 1:\n",
    "        outF.write(\",\")\n",
    "outF.close()\n"
   ]
  },
  {
   "cell_type": "code",
   "execution_count": 48,
   "id": "a7d54459",
   "metadata": {},
   "outputs": [],
   "source": [
    "outF = open(\"predictions_NN.txt\", \"w\")\n",
    "for i in range(len(new_x)):\n",
    "    t = np.append(new_x[i], [1], axis=0)\n",
    "    value_first_l = np.dot(t,W1)\n",
    "    out_first_l = sigmoid(value_first_l)\n",
    "    out_first_l_bias = np.append(out_first_l, [1], axis=0)\n",
    "    before_a = np.dot(out_first_l_bias, W2)\n",
    "    \n",
    "    after_a = sigmoid_single(before_a)\n",
    "    outF.write(str(round(after_a)))\n",
    "    if i != len(new_x) - 1:\n",
    "        outF.write(\",\")\n",
    "outF.close()"
   ]
  },
  {
   "cell_type": "code",
   "execution_count": 50,
   "id": "6a676e5e",
   "metadata": {},
   "outputs": [],
   "source": [
    "# Todo: load and measure the given sample\n",
    "wrong_fs = np.loadtxt('FNN.txt', delimiter=',')\n",
    "\n",
    "\n",
    "outF = open(\"wrong_features.txt\", \"w\")\n",
    "for i in range(len(wrong_fs)):\n",
    "    outF.write(str(round(wrong_fs[i], 2)))\n",
    "    if i != len(wrong_fs) - 1:\n",
    "        outF.write(\",\")\n",
    "outF.close()\n"
   ]
  },
  {
   "cell_type": "code",
   "execution_count": null,
   "id": "3536b49e",
   "metadata": {},
   "outputs": [],
   "source": []
  }
 ],
 "metadata": {
  "kernelspec": {
   "display_name": "Python 3",
   "language": "python",
   "name": "python3"
  },
  "language_info": {
   "codemirror_mode": {
    "name": "ipython",
    "version": 3
   },
   "file_extension": ".py",
   "mimetype": "text/x-python",
   "name": "python",
   "nbconvert_exporter": "python",
   "pygments_lexer": "ipython3",
   "version": "3.8.8"
  }
 },
 "nbformat": 4,
 "nbformat_minor": 5
}
