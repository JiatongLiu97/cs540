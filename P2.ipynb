{
 "cells": [
  {
   "cell_type": "code",
   "execution_count": 1,
   "id": "06139b79",
   "metadata": {},
   "outputs": [
    {
     "name": "stdout",
     "output_type": "stream",
     "text": [
      "<class 'numpy.ndarray'>\n",
      "(683, 11)\n",
      "[[1000025       5       1 ...       1       1       2]\n",
      " [1002945       5       4 ...       2       1       2]\n",
      " [1015425       3       1 ...       1       1       2]\n",
      " ...\n",
      " [ 888820       5      10 ...      10       2       4]\n",
      " [ 897471       4       8 ...       6       1       4]\n",
      " [ 897471       4       8 ...       4       1       4]]\n"
     ]
    }
   ],
   "source": [
    "import numpy as np\n",
    "from math import log2\n",
    "import copy\n",
    "\n",
    "'''\n",
    "This script is using all 9 features (2,3,...,10) to create a tree, which serves as a template.\n",
    "Todo: you need to modify this by using the several specified features to create your own tree \n",
    "Todo: you need to do the pruning yourself\n",
    "Todo: you need to get all the output including the test results.\n",
    "Todo: you also need to generate the tree of such the format in the writeup: 'if (x3 <= 6) return 2 .......'\n",
    "'''\n",
    "\n",
    "with open('breast-cancer-wisconsin.data', 'r') as f:\n",
    "    a = [l.strip('\\n').split(',') for l in f if '?' not in l]\n",
    "\n",
    "\n",
    "a = np.array(a).astype(int)   # training data\n",
    "\n",
    "print(type(a))\n",
    "print(a.shape)\n",
    "print(a)"
   ]
  },
  {
   "cell_type": "code",
   "execution_count": 2,
   "id": "1035e9d9",
   "metadata": {},
   "outputs": [],
   "source": [
    "num_pos = 0\n",
    "num_neg = 0\n",
    "for i in range(len(a)):\n",
    "    if a[i][10] == 2:\n",
    "        num_neg += 1\n",
    "    else:\n",
    "        num_pos += 1\n",
    "# open a (new) file to write\n",
    "outF = open(\"positive_and_negative_instances.txt\", \"w\")\n",
    "outF.write(str(num_neg))\n",
    "outF.write(\",\")\n",
    "outF.write(str(num_pos))\n",
    "outF.close()"
   ]
  },
  {
   "cell_type": "code",
   "execution_count": 3,
   "id": "8c671a91",
   "metadata": {},
   "outputs": [
    {
     "name": "stdout",
     "output_type": "stream",
     "text": [
      "406 , 38 , 12 , 227\n"
     ]
    }
   ],
   "source": [
    "below_b = 0\n",
    "below_m = 0\n",
    "above_b = 0\n",
    "above_m = 0\n",
    "num_neg = 0\n",
    "thd = 2\n",
    "for i in range(len(a)):\n",
    "    #samples below the threashold\n",
    "    if a[i][2] <= thd:\n",
    "        if a[i][10] == 2:\n",
    "            below_b += 1\n",
    "        else:\n",
    "            below_m += 1\n",
    "    #samples above the threashold\n",
    "    else:\n",
    "        if a[i][10] == 2:\n",
    "            above_b += 1\n",
    "        else:\n",
    "            above_m += 1\n",
    "print(below_b, \",\", above_b, \",\", below_m, \",\", above_m)"
   ]
  },
  {
   "cell_type": "code",
   "execution_count": 4,
   "id": "2974eec7",
   "metadata": {
    "scrolled": true
   },
   "outputs": [
    {
     "name": "stdout",
     "output_type": "stream",
     "text": [
      "[[0.11703524 0.14940719 0.22118337 0.29145718 0.35054263 0.36324318\n",
      "  0.29499704 0.20772473 0.16883556]\n",
      " [0.52497259 0.58891877 0.56887349 0.48350574 0.36694691 0.28277076\n",
      "  0.23500127 0.16652868 0.16342824]\n",
      " [0.47516762 0.56902539 0.55133436 0.47127319 0.36684641 0.28915248\n",
      "  0.21977192 0.15805634 0.1395261 ]\n",
      " [0.49938253 0.52023775 0.50525872 0.47246546 0.44447278 0.42833044\n",
      "  0.40780472 0.35279192 0.32193989]\n",
      " [0.1380979  0.32349567 0.49031098 0.39030094 0.30571097 0.28547025\n",
      "  0.14214793 0.07169131 0.04555387]\n",
      " [0.37440367 0.45723842 0.38108759 0.32453048 0.27830435 0.24472868\n",
      "  0.21606924 0.18527535 0.1447781 ]]\n"
     ]
    }
   ],
   "source": [
    "\n",
    "def entropy(data):\n",
    "    count = len(data)\n",
    "    p0 = sum(b[-1] == 2 for b in data) / count\n",
    "    if p0 == 0 or p0 == 1: return 0\n",
    "    p1 = 1 - p0\n",
    "    return -p0 * log2(p0) - p1 * log2(p1)\n",
    "\n",
    "\n",
    "def infogain(data, fea, threshold):  # x_fea <= threshold;  fea = 2,3,4,..., 10; threshold = 1,..., 9\n",
    "    count = len(data)\n",
    "    d1 = data[data[:, fea - 1] <= threshold]\n",
    "    d2 = data[data[:, fea - 1] > threshold]\n",
    "    if len(d1) == 0 or len(d2) == 0: return 0\n",
    "    return entropy(data) - (len(d1) / count * entropy(d1) + len(d2) / count * entropy(d2))\n",
    "\n",
    "\n",
    "def find_best_split(data):\n",
    "    c = len(data)\n",
    "    c0 = sum(b[-1] == 2 for b in data)\n",
    "    if c0 == c: return (2, None)\n",
    "    if c0 == 0: return (4, None)\n",
    "    ig = [[infogain(data, f, t) for t in range(1, 10)] for f in [2,3,4,7,8,9]]\n",
    "    ig = np.array(ig)\n",
    "    max_ig = max(max(i) for i in ig)\n",
    "    if max_ig == 0:\n",
    "        if c0 > c - c0:\n",
    "            return (2, None)\n",
    "        else:\n",
    "            return (4, None)\n",
    "    ind = np.unravel_index(np.argmax(ig, axis=None), ig.shape)\n",
    "    fea = 0\n",
    "    threshold = 0\n",
    "    if ind[0] == 0 or ind[0] == 1 or ind[0] == 2:\n",
    "        fea = ind[0] + 2\n",
    "    else:\n",
    "        fea = ind[0] + 4\n",
    "    threshold = ind[1] + 1\n",
    "    return (fea, threshold)\n",
    "\n",
    "\n",
    "def split(data, node):\n",
    "    fea, threshold = node.fea, node.threshold\n",
    "    d1 = data[data[:,fea-1] <= threshold]\n",
    "    d2 = data[data[:,fea-1] > threshold]\n",
    "    return (d1,d2)\n",
    "\n",
    "\n",
    "class Node:\n",
    "    def __init__(self, fea, threshold):\n",
    "        self.fea = fea\n",
    "        self.threshold = threshold\n",
    "        self.left = None\n",
    "        self.right = None\n",
    "\n",
    "# <= threshold = 0 ~ 10\n",
    "# fea = 2 ~ 10\n",
    "ig = [[infogain(a, fea, t) for t in range(1,10)] for fea in [2,3,4,7,8,9]]\n",
    "ig = np.array(ig)\n",
    "\n",
    "print(ig)\n",
    "\n"
   ]
  },
  {
   "cell_type": "code",
   "execution_count": 11,
   "id": "6c729472",
   "metadata": {
    "scrolled": true
   },
   "outputs": [],
   "source": [
    "ind = np.unravel_index(np.argmax(ig, axis=None), ig.shape)\n",
    "root_fea = 0\n",
    "root_thd = 0\n",
    "if ind[0] == 0 or 1 or 2:\n",
    "    root_fea = ind[0] + 2\n",
    "else:\n",
    "    root_fea = ind[0] + 4\n",
    "root_thd = ind[1] + 1\n",
    "root = Node(root_fea, root_thd)\n",
    "\n",
    "def majority_vote(data):\n",
    "    num_2 = 0\n",
    "    num_4 = 0\n",
    "    for i in range(len(data)):\n",
    "        if data[i][10] == 2:\n",
    "            num_2 += 1\n",
    "        else:\n",
    "            num_4 += 1\n",
    "    if num_2 <= num_4:\n",
    "        return 4\n",
    "    else:\n",
    "        return 2\n",
    "\n",
    "def create_tree(data, node):\n",
    "    string = \"if (x\" + str(node.fea) + \" <= \" + str(node.threshold) + \")  \"\n",
    "    d1,d2 = split(data, node)\n",
    "    f1, t1 = find_best_split(d1)\n",
    "    if node.fea == f1 and node.threshold == t1:\n",
    "        t1 = None\n",
    "        f1 = majority_vote(d1)\n",
    "    f2, t2 = find_best_split(d2)\n",
    "    if node.fea == f2 and node.threshold == t2:\n",
    "        t2 = None\n",
    "        f2 = majority_vote(d2)\n",
    "    if t1 == None: \n",
    "        node.left = f1\n",
    "        outF.write(string + \"return \" + str(f1) + \"\\n\")\n",
    "    else:\n",
    "        outF.write(string + \"\\n\")\n",
    "        node.left = Node(f1,t1)\n",
    "        create_tree(d1, node.left)\n",
    "    if t2 == None: \n",
    "        node.right = f2\n",
    "        outF.write(\"else return \" + str(f2) + \"\\n\")\n",
    "    else:\n",
    "        outF.write(\"else\" + \"\\n\")\n",
    "        node.right = Node(f2,t2)\n",
    "        create_tree(d2, node.right)\n",
    "    return  \n",
    "\n",
    "outF = open(\"binary_decision_tree.txt\", \"w\")\n",
    "create_tree(a, root)\n",
    "outF.close()\n"
   ]
  },
  {
   "cell_type": "code",
   "execution_count": 12,
   "id": "80073f20",
   "metadata": {},
   "outputs": [
    {
     "name": "stdout",
     "output_type": "stream",
     "text": [
      "3 2\n",
      "\n",
      "7 3\n",
      "3 4\n",
      "\n",
      "2 7\n",
      "2 3\n",
      "7 2\n",
      "8 4\n",
      "\n",
      "2\n",
      "4 1\n",
      "2\n",
      "8 2\n",
      "9 2\n",
      "2 6\n",
      "2 6\n",
      "4\n",
      "\n",
      "2\n",
      "4\n",
      "2 4\n",
      "4\n",
      "2\n",
      "9 8\n",
      "8 3\n",
      "7 7\n",
      "7 8\n",
      "4\n",
      "\n",
      "4\n",
      "2 5\n",
      "3 3\n",
      "4\n",
      "3 3\n",
      "7 5\n",
      "4 4\n",
      "4\n",
      "4 6\n",
      "4\n",
      "\n",
      "2\n",
      "4\n",
      "2\n",
      "4 4\n",
      "4 2\n",
      "2\n",
      "2 4\n",
      "4\n",
      "7 3\n",
      "4\n",
      "4\n",
      "3 9\n",
      "\n",
      "4\n",
      "2 5\n",
      "2\n",
      "2 5\n",
      "2\n",
      "7 4\n",
      "4\n",
      "2\n",
      "2\n",
      "4\n",
      "\n",
      "2\n",
      "2 7\n",
      "4\n",
      "2\n",
      "4\n",
      "2\n",
      "\n",
      "4\n",
      "2\n",
      "\n"
     ]
    }
   ],
   "source": [
    "depth = -1\n",
    "\n",
    "s1 = [root]\n",
    "s2 = []\n",
    "while s1:\n",
    "    s2 = copy.deepcopy(s1)\n",
    "    s1 = []\n",
    "    for n in s2:\n",
    "        if n != 2 and n != 4:\n",
    "            print(n.fea, n.threshold)\n",
    "            if n.left != None: s1 += [n.left]\n",
    "            if n.right != None: s1 += [n.right]\n",
    "        else:\n",
    "            print(n)\n",
    "\n",
    "    print()\n",
    "    depth += 1\n"
   ]
  },
  {
   "cell_type": "code",
   "execution_count": 13,
   "id": "d5d9e5a3",
   "metadata": {},
   "outputs": [
    {
     "name": "stdout",
     "output_type": "stream",
     "text": [
      "9\n"
     ]
    }
   ],
   "source": [
    "print(depth)"
   ]
  },
  {
   "cell_type": "code",
   "execution_count": 19,
   "id": "68f3b9a4",
   "metadata": {},
   "outputs": [
    {
     "name": "stdout",
     "output_type": "stream",
     "text": [
      "<class 'numpy.ndarray'>\n",
      "(683, 11)\n",
      "[[1000025       5       1 ...       1       1       2]\n",
      " [1002945       5       4 ...       2       1       2]\n",
      " [1015425       3       1 ...       1       1       2]\n",
      " ...\n",
      " [ 888820       5      10 ...      10       2       4]\n",
      " [ 897471       4       8 ...       6       1       4]\n",
      " [ 897471       4       8 ...       4       1       4]]\n",
      "(683, 9)\n",
      "(683,)\n"
     ]
    }
   ],
   "source": [
    "with open('breast-cancer-wisconsin.data', 'r') as f:\n",
    "    a = [l.strip('\\n').split(',') for l in f if '?' not in l]\n",
    "\n",
    "\n",
    "a = np.array(a).astype(int)   # training data\n",
    "\n",
    "print(type(a))\n",
    "print(a.shape)\n",
    "print(a)\n",
    "\n",
    "X_train = a[:,1:10]\n",
    "Y_train = a[:,10]\n",
    "\n",
    "print(X.shape)\n",
    "print(Y.shape)"
   ]
  },
  {
   "cell_type": "code",
   "execution_count": 34,
   "id": "552cbca8",
   "metadata": {},
   "outputs": [
    {
     "name": "stdout",
     "output_type": "stream",
     "text": [
      "6\n"
     ]
    },
    {
     "data": {
      "image/png": "[encoded data removed]",
      "text/plain": [
       "<Figure size 432x288 with 1 Axes>"
      ]
     },
     "metadata": {
      "needs_background": "light"
     },
     "output_type": "display_data"
    }
   ],
   "source": [
    "from sklearn.tree import DecisionTreeClassifier\n",
    "from sklearn import tree\n",
    "from matplotlib import pyplot as plt\n",
    "\n",
    "clf = DecisionTreeClassifier(random_state=0)\n",
    "clf = clf.fit(X_train, Y_train)\n"
   ]
  },
  {
   "cell_type": "code",
   "execution_count": 26,
   "id": "f058f1b2",
   "metadata": {},
   "outputs": [],
   "source": [
    "with open('test.txt', 'r') as f:\n",
    "    a = [l.strip('\\n').split(',') for l in f if '?' not in l]\n",
    "\n",
    "\n",
    "a = np.array(a).astype(int)   # training data\n",
    "\n",
    "\n",
    "\n",
    "X_test = a[:,1:10]\n",
    "\n",
    "y_test = clf.predict(X_test)\n",
    "\n",
    "\n",
    "# open a (new) file to write\n",
    "outF = open(\"test_lables.txt\", \"w\")\n",
    "for i in range(len(y_test)):\n",
    "    outF.write(str(y_test[i]))\n",
    "    if i != len(y_test) - 1:\n",
    "        outF.write(\",\")\n",
    "outF.close()\n"
   ]
  },
  {
   "cell_type": "code",
   "execution_count": 40,
   "id": "eba57651",
   "metadata": {},
   "outputs": [
    {
     "name": "stdout",
     "output_type": "stream",
     "text": [
      "[[1000025       5       1 ...       1       1       2]\n",
      " [1002945       5       4 ...       2       1       2]\n",
      " [1015425       3       1 ...       1       1       2]\n",
      " ...\n",
      " [ 888820       5      10 ...      10       2       4]\n",
      " [ 897471       4       8 ...       6       1       4]\n",
      " [ 897471       4       8 ...       4       1       4]]\n"
     ]
    }
   ],
   "source": [
    "with open('breast-cancer-wisconsin.data', 'r') as f:\n",
    "    a = [l.strip('\\n').split(',') for l in f if '?' not in l]\n",
    "\n",
    "a = np.array(a).astype(int)   # training data\n",
    "\n",
    "\n",
    "print(a)\n",
    "X_train = []\n",
    "for i in range(len(a)):\n",
    "    features = []\n",
    "    features.append(a[i][1])\n",
    "    features.append(a[i][2])\n",
    "    features.append(a[i][3])\n",
    "    features.append(a[i][6])\n",
    "    features.append(a[i][7])\n",
    "    features.append(a[i][8])\n",
    "    X_train.append(features)\n",
    "X_train = np.array(X_train)\n",
    "Y_train = a[:,10]\n",
    "\n"
   ]
  },
  {
   "cell_type": "code",
   "execution_count": 69,
   "id": "5393461e",
   "metadata": {},
   "outputs": [
    {
     "name": "stdout",
     "output_type": "stream",
     "text": [
      "(683, 6)\n"
     ]
    }
   ],
   "source": [
    "clf_prune = DecisionTreeClassifier(random_state=0, max_depth = 6)\n",
    "clf_prune = clf.fit(X_train, Y_train)\n",
    "\n",
    "print(X_train.shape)\n",
    "\n"
   ]
  },
  {
   "cell_type": "code",
   "execution_count": 82,
   "id": "bc52de37",
   "metadata": {},
   "outputs": [
    {
     "name": "stdout",
     "output_type": "stream",
     "text": [
      "if x3 <= 2.5:\n",
      "    if x7 <= 5.5:\n",
      "        if x2 <= 6.5:\n",
      "            if x9 <= 9.0:\n",
      "                if x7 <= 4.5:\n",
      "                    return 2\n",
      "                else:  # if x7 > 4.5\n",
      "                    if x2 <= 3.5:\n",
      "                        return 2\n",
      "                    else:  # if x2 > 3.5\n",
      "                        return 4\n",
      "            else:  # if x9 > 9.0\n",
      "                return 4\n",
      "        else:  # if x2 > 6.5\n",
      "            if x8 <= 2.5:\n",
      "                return 2\n",
      "            else:  # if x8 > 2.5\n",
      "                return 4\n",
      "    else:  # if x7 > 5.5\n",
      "        if x2 <= 2.5:\n",
      "            return 2\n",
      "        else:  # if x2 > 2.5\n",
      "            return 4\n",
      "else:  # if x3 > 2.5\n",
      "    if x4 <= 2.5:\n",
      "        if x2 <= 5.5:\n",
      "            if x7 <= 7.5:\n",
      "                return 2\n",
      "            else:  # if x7 > 7.5\n",
      "                return 4\n",
      "        else:  # if x2 > 5.5\n",
      "            return 4\n",
      "    else:  # if x4 > 2.5\n",
      "        if x3 <= 4.5:\n",
      "            if x7 <= 2.5:\n",
      "                if x9 <= 7.5:\n",
      "                    if x3 <= 3.5:\n",
      "                        return 2\n",
      "                    else:  # if x3 > 3.5\n",
      "                        return 4\n",
      "                else:  # if x9 > 7.5\n",
      "                    return 4\n",
      "            else:  # if x7 > 2.5\n",
      "                if x2 <= 6.5:\n",
      "                    if x2 <= 5.5:\n",
      "                        return 4\n",
      "                    else:  # if x2 > 5.5\n",
      "                        return 2\n",
      "                else:  # if x2 > 6.5\n",
      "                    if x9 <= 7.0:\n",
      "                        return 4\n",
      "                    else:  # if x9 > 7.0\n",
      "                        return 4\n",
      "        else:  # if x3 > 4.5\n",
      "            if x8 <= 4.5:\n",
      "                if x2 <= 6.5:\n",
      "                    if x2 <= 5.5:\n",
      "                        return 4\n",
      "                    else:  # if x2 > 5.5\n",
      "                        return 2\n",
      "                else:  # if x2 > 6.5\n",
      "                    return 4\n",
      "            else:  # if x8 > 4.5\n",
      "                return 4\n"
     ]
    }
   ],
   "source": [
    "#This block of code attributes to : https://mljar.com/blog/extract-rules-decision-tree/\n",
    "from sklearn.tree import _tree\n",
    "\n",
    "\n",
    "def tree_to_code(tree, feature_names):\n",
    "    tree_ = tree.tree_\n",
    "    feature_name = [\n",
    "        feature_names[i] if i != _tree.TREE_UNDEFINED else \"undefined!\"\n",
    "        for i in tree_.feature\n",
    "    ]\n",
    "    \n",
    "\n",
    "    def recurse(node, depth):\n",
    "        indent = \"    \" * depth\n",
    "        if tree_.feature[node] != _tree.TREE_UNDEFINED:\n",
    "            name = feature_name[node]\n",
    "            threshold = tree_.threshold[node]\n",
    "            print(\"{}if {} <= {}:\".format(indent, name, np.round(threshold,2)))\n",
    "            recurse(tree_.children_left[node], depth + 1)\n",
    "            print(\"{}else:  # if {} > {}\".format(indent, name, np.round(threshold,2)))\n",
    "            recurse(tree_.children_right[node], depth + 1)\n",
    "        else:\n",
    "            lable = 0\n",
    "            if tree_.value[node][0][0] > tree_.value[node][0][1]:\n",
    "                lable = 2\n",
    "            else:\n",
    "                lable = 4\n",
    "            print(\"{}return {}\".format(indent, lable))\n",
    "\n",
    "    recurse(0, 0)\n",
    "    \n",
    "    \n",
    "feature_names=[\"x2\",\"x3\",\"x4\",\"x7\",\"x8\",\"x9\"]\n",
    "tree_to_code(clf_prune, feature_names)"
   ]
  },
  {
   "cell_type": "code",
   "execution_count": 83,
   "id": "9640cb34",
   "metadata": {},
   "outputs": [
    {
     "ename": "ValueError",
     "evalue": "X has 9 features, but DecisionTreeClassifier is expecting 6 features as input.",
     "output_type": "error",
     "traceback": [
      "\u001b[1;31m---------------------------------------------------------------------------\u001b[0m",
      "\u001b[1;31mValueError\u001b[0m                                Traceback (most recent call last)",
      "\u001b[1;32m<ipython-input-83-a9f076b788f4>\u001b[0m in \u001b[0;36m<module>\u001b[1;34m\u001b[0m\n\u001b[0;32m      4\u001b[0m \u001b[1;33m\u001b[0m\u001b[0m\n\u001b[0;32m      5\u001b[0m \u001b[0ma\u001b[0m \u001b[1;33m=\u001b[0m \u001b[0mnp\u001b[0m\u001b[1;33m.\u001b[0m\u001b[0marray\u001b[0m\u001b[1;33m(\u001b[0m\u001b[0ma\u001b[0m\u001b[1;33m)\u001b[0m\u001b[1;33m.\u001b[0m\u001b[0mastype\u001b[0m\u001b[1;33m(\u001b[0m\u001b[0mint\u001b[0m\u001b[1;33m)\u001b[0m   \u001b[1;31m# training data\u001b[0m\u001b[1;33m\u001b[0m\u001b[1;33m\u001b[0m\u001b[0m\n\u001b[1;32m----> 6\u001b[1;33m \u001b[0my_test\u001b[0m \u001b[1;33m=\u001b[0m \u001b[0mclf\u001b[0m\u001b[1;33m.\u001b[0m\u001b[0mpredict\u001b[0m\u001b[1;33m(\u001b[0m\u001b[0mX_test\u001b[0m\u001b[1;33m)\u001b[0m\u001b[1;33m\u001b[0m\u001b[1;33m\u001b[0m\u001b[0m\n\u001b[0m\u001b[0;32m      7\u001b[0m \u001b[1;31m# open a (new) file to write\u001b[0m\u001b[1;33m\u001b[0m\u001b[1;33m\u001b[0m\u001b[1;33m\u001b[0m\u001b[0m\n\u001b[0;32m      8\u001b[0m \u001b[0moutF\u001b[0m \u001b[1;33m=\u001b[0m \u001b[0mopen\u001b[0m\u001b[1;33m(\u001b[0m\u001b[1;34m\"test_lables_prune.txt\"\u001b[0m\u001b[1;33m,\u001b[0m \u001b[1;34m\"w\"\u001b[0m\u001b[1;33m)\u001b[0m\u001b[1;33m\u001b[0m\u001b[1;33m\u001b[0m\u001b[0m\n",
      "\u001b[1;32m~\\anaconda3\\lib\\site-packages\\sklearn\\tree\\_classes.py\u001b[0m in \u001b[0;36mpredict\u001b[1;34m(self, X, check_input)\u001b[0m\n\u001b[0;32m    435\u001b[0m         \"\"\"\n\u001b[0;32m    436\u001b[0m         \u001b[0mcheck_is_fitted\u001b[0m\u001b[1;33m(\u001b[0m\u001b[0mself\u001b[0m\u001b[1;33m)\u001b[0m\u001b[1;33m\u001b[0m\u001b[1;33m\u001b[0m\u001b[0m\n\u001b[1;32m--> 437\u001b[1;33m         \u001b[0mX\u001b[0m \u001b[1;33m=\u001b[0m \u001b[0mself\u001b[0m\u001b[1;33m.\u001b[0m\u001b[0m_validate_X_predict\u001b[0m\u001b[1;33m(\u001b[0m\u001b[0mX\u001b[0m\u001b[1;33m,\u001b[0m \u001b[0mcheck_input\u001b[0m\u001b[1;33m)\u001b[0m\u001b[1;33m\u001b[0m\u001b[1;33m\u001b[0m\u001b[0m\n\u001b[0m\u001b[0;32m    438\u001b[0m         \u001b[0mproba\u001b[0m \u001b[1;33m=\u001b[0m \u001b[0mself\u001b[0m\u001b[1;33m.\u001b[0m\u001b[0mtree_\u001b[0m\u001b[1;33m.\u001b[0m\u001b[0mpredict\u001b[0m\u001b[1;33m(\u001b[0m\u001b[0mX\u001b[0m\u001b[1;33m)\u001b[0m\u001b[1;33m\u001b[0m\u001b[1;33m\u001b[0m\u001b[0m\n\u001b[0;32m    439\u001b[0m         \u001b[0mn_samples\u001b[0m \u001b[1;33m=\u001b[0m \u001b[0mX\u001b[0m\u001b[1;33m.\u001b[0m\u001b[0mshape\u001b[0m\u001b[1;33m[\u001b[0m\u001b[1;36m0\u001b[0m\u001b[1;33m]\u001b[0m\u001b[1;33m\u001b[0m\u001b[1;33m\u001b[0m\u001b[0m\n",
      "\u001b[1;32m~\\anaconda3\\lib\\site-packages\\sklearn\\tree\\_classes.py\u001b[0m in \u001b[0;36m_validate_X_predict\u001b[1;34m(self, X, check_input)\u001b[0m\n\u001b[0;32m    400\u001b[0m         \u001b[1;34m\"\"\"Validate the training data on predict (probabilities).\"\"\"\u001b[0m\u001b[1;33m\u001b[0m\u001b[1;33m\u001b[0m\u001b[0m\n\u001b[0;32m    401\u001b[0m         \u001b[1;32mif\u001b[0m \u001b[0mcheck_input\u001b[0m\u001b[1;33m:\u001b[0m\u001b[1;33m\u001b[0m\u001b[1;33m\u001b[0m\u001b[0m\n\u001b[1;32m--> 402\u001b[1;33m             X = self._validate_data(X, dtype=DTYPE, accept_sparse=\"csr\",\n\u001b[0m\u001b[0;32m    403\u001b[0m                                     reset=False)\n\u001b[0;32m    404\u001b[0m             if issparse(X) and (X.indices.dtype != np.intc or\n",
      "\u001b[1;32m~\\anaconda3\\lib\\site-packages\\sklearn\\base.py\u001b[0m in \u001b[0;36m_validate_data\u001b[1;34m(self, X, y, reset, validate_separately, **check_params)\u001b[0m\n\u001b[0;32m    435\u001b[0m \u001b[1;33m\u001b[0m\u001b[0m\n\u001b[0;32m    436\u001b[0m         \u001b[1;32mif\u001b[0m \u001b[0mcheck_params\u001b[0m\u001b[1;33m.\u001b[0m\u001b[0mget\u001b[0m\u001b[1;33m(\u001b[0m\u001b[1;34m'ensure_2d'\u001b[0m\u001b[1;33m,\u001b[0m \u001b[1;32mTrue\u001b[0m\u001b[1;33m)\u001b[0m\u001b[1;33m:\u001b[0m\u001b[1;33m\u001b[0m\u001b[1;33m\u001b[0m\u001b[0m\n\u001b[1;32m--> 437\u001b[1;33m             \u001b[0mself\u001b[0m\u001b[1;33m.\u001b[0m\u001b[0m_check_n_features\u001b[0m\u001b[1;33m(\u001b[0m\u001b[0mX\u001b[0m\u001b[1;33m,\u001b[0m \u001b[0mreset\u001b[0m\u001b[1;33m=\u001b[0m\u001b[0mreset\u001b[0m\u001b[1;33m)\u001b[0m\u001b[1;33m\u001b[0m\u001b[1;33m\u001b[0m\u001b[0m\n\u001b[0m\u001b[0;32m    438\u001b[0m \u001b[1;33m\u001b[0m\u001b[0m\n\u001b[0;32m    439\u001b[0m         \u001b[1;32mreturn\u001b[0m \u001b[0mout\u001b[0m\u001b[1;33m\u001b[0m\u001b[1;33m\u001b[0m\u001b[0m\n",
      "\u001b[1;32m~\\anaconda3\\lib\\site-packages\\sklearn\\base.py\u001b[0m in \u001b[0;36m_check_n_features\u001b[1;34m(self, X, reset)\u001b[0m\n\u001b[0;32m    363\u001b[0m \u001b[1;33m\u001b[0m\u001b[0m\n\u001b[0;32m    364\u001b[0m         \u001b[1;32mif\u001b[0m \u001b[0mn_features\u001b[0m \u001b[1;33m!=\u001b[0m \u001b[0mself\u001b[0m\u001b[1;33m.\u001b[0m\u001b[0mn_features_in_\u001b[0m\u001b[1;33m:\u001b[0m\u001b[1;33m\u001b[0m\u001b[1;33m\u001b[0m\u001b[0m\n\u001b[1;32m--> 365\u001b[1;33m             raise ValueError(\n\u001b[0m\u001b[0;32m    366\u001b[0m                 \u001b[1;34mf\"X has {n_features} features, but {self.__class__.__name__} \"\u001b[0m\u001b[1;33m\u001b[0m\u001b[1;33m\u001b[0m\u001b[0m\n\u001b[0;32m    367\u001b[0m                 f\"is expecting {self.n_features_in_} features as input.\")\n",
      "\u001b[1;31mValueError\u001b[0m: X has 9 features, but DecisionTreeClassifier is expecting 6 features as input."
     ]
    }
   ],
   "source": [
    "with open('test.txt', 'r') as f:\n",
    "    a = [l.strip('\\n').split(',') for l in f if '?' not in l]\n",
    "\n",
    "\n",
    "a = np.array(a).astype(int)   # training data\n",
    "y_test = clf.predict(X_test)\n",
    "# open a (new) file to write\n",
    "outF = open(\"test_lables_prune.txt\", \"w\")\n",
    "for i in range(len(y_test)):\n",
    "    outF.write(str(y_test[i]))\n",
    "    if i != len(y_test) - 1:\n",
    "        outF.write(\",\")\n",
    "outF.close()"
   ]
  },
  {
   "cell_type": "code",
   "execution_count": 84,
   "id": "ca2bae6f",
   "metadata": {},
   "outputs": [
    {
     "name": "stdout",
     "output_type": "stream",
     "text": [
      "<class 'int'>\n"
     ]
    }
   ],
   "source": [
    "x = 6\n",
    "print(type(x))"
   ]
  },
  {
   "cell_type": "code",
   "execution_count": null,
   "id": "9fea12ab",
   "metadata": {},
   "outputs": [],
   "source": []
  }
 ],
 "metadata": {
  "kernelspec": {
   "display_name": "Python 3",
   "language": "python",
   "name": "python3"
  },
  "language_info": {
   "codemirror_mode": {
    "name": "ipython",
    "version": 3
   },
   "file_extension": ".py",
   "mimetype": "text/x-python",
   "name": "python",
   "nbconvert_exporter": "python",
   "pygments_lexer": "ipython3",
   "version": "3.8.8"
  }
 },
 "nbformat": 4,
 "nbformat_minor": 5
}
